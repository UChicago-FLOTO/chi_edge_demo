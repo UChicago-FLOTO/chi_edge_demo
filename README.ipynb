{
 "cells": [
  {
   "cell_type": "markdown",
   "id": "40db63e3-641f-445f-9081-7005f1c26ef6",
   "metadata": {},
   "source": [
    "# FLOTO application development\n",
    "\n",
    "This notebook will launch a container on CHI@Edge, on a Raspberry Pi, in a environment very similar to FLOTO. \n",
    "\n",
    "A limitation of this environment is that, CHI@Edge does not set up volumes between containers, meaning you won't be able to set up a container to collect data and a separate container to upload data, as may be done on FLOTO. \n",
    "However, on CHI@Edge, you will be able to interact with your container and view its logs, which will allow you to verify the service is working as expected."
   ]
  },
  {
   "cell_type": "markdown",
   "id": "f62ad5d5-7631-4b1c-948a-54b49a59793b",
   "metadata": {},
   "source": [
    "## Setup \n",
    "\n",
    "First, you'll need to enter your Chameleon project ID in the input after running the next cell."
   ]
  },
  {
   "cell_type": "code",
   "execution_count": null,
   "id": "c9e030f1-4ed4-484e-b807-444a992a8394",
   "metadata": {},
   "outputs": [],
   "source": [
    "import chi\n",
    "chi.use_site(\"CHI@Edge\")\n",
    "chi.set(\"project_name\", input(\"Please enter your project ID (CHI-XXXXXX)\").strip())"
   ]
  },
  {
   "cell_type": "markdown",
   "id": "cb485172-9414-4c71-8b1d-a61f425c9adb",
   "metadata": {},
   "source": [
    "## Start container\n",
    "\n",
    "Next, we'll start your application in a container, just as would be done on FLOTO. We set the FLOTO environment variables, which are automatically set when a job is run. If your service requires other environment variables, add them as entries in the `environment` dict. "
   ]
  },
  {
   "cell_type": "code",
   "execution_count": null,
   "id": "a95f3cf2-1791-4a2a-a602-e7fa9374630d",
   "metadata": {},
   "outputs": [],
   "source": [
    "from uuid import uuid4\n",
    "\n",
    "environment = {\n",
    "    \"FLOTO_JOB_UUID\": str(uuid4()),\n",
    "    \"FLOTO_DEVICE_UUID\": str(uuid4()),\n",
    "}"
   ]
  },
  {
   "cell_type": "markdown",
   "id": "882edf59-f46b-448f-bac8-92f5bd0d543b",
   "metadata": {},
   "source": [
    "Now, set the image reference for the container in the variable below. This is the place where the container image is pulled from (i.e. what you would `docker pull`). \n",
    "\n",
    "The given value here is set to a demo \"data collector\", which just writes randomly generated data to the shared FLOTO volume (which in this CHI@Edge environment, isn't a shared volume). You can browse the source in `demo_container/`"
   ]
  },
  {
   "cell_type": "code",
   "execution_count": null,
   "id": "b2c18739-37f1-4b62-8a7e-17d4662d4d25",
   "metadata": {},
   "outputs": [],
   "source": [
    "container_ref = \"mppowers/collector\""
   ]
  },
  {
   "cell_type": "markdown",
   "id": "8f3d3967-b7ad-4f5d-a48d-d4b92f9bb0d8",
   "metadata": {},
   "source": [
    "Finally, we actually start the container on CHI@Edge. First, we'll need to make a reservation for a Raspberry Pi, and then we launch our container using it."
   ]
  },
  {
   "cell_type": "code",
   "execution_count": null,
   "id": "62294827-10e0-4671-836b-467a0677f7cb",
   "metadata": {},
   "outputs": [],
   "source": [
    "from chi import lease\n",
    "from chi.container import create_container, destroy_container\n",
    "\n",
    "reservations = []\n",
    "lease.add_device_reservation(reservations, count=1, machine_name=\"raspberrypi4-64\")\n",
    "edge_lease = lease.create_lease(\n",
    "    \"floto_lease\", \n",
    "    reservations, \n",
    "    start_date='now', \n",
    "    # Note, by default this runs for 2 hours! If you need more time, increase the value here.\n",
    "    end_date=lease.lease_duration(days=0,hours=2)[1]\n",
    ")\n",
    "print(\"Waiting for lease to start\")\n",
    "lease.wait_for_active(edge_lease[\"id\"])\n",
    "print(\"Ready to continue!\")"
   ]
  },
  {
   "cell_type": "code",
   "execution_count": null,
   "id": "cc799450-0354-4855-b18d-3aee0ed27b58",
   "metadata": {},
   "outputs": [],
   "source": [
    "from chi.container import destroy_container\n",
    "try:\n",
    "    print(\"Launching container. This may take some time for the image to download on the device\")\n",
    "    floto_container = create_container(\n",
    "        name=\"floto-container\",\n",
    "        image=container_ref,\n",
    "        environment=environment,\n",
    "        reservation_id=lease.get_device_reservation(edge_lease[\"id\"]),\n",
    "    )\n",
    "except RuntimeError as ex:\n",
    "    print(ex)\n",
    "    try:\n",
    "        destroy_container(floto_container.uuid)\n",
    "        print(\"Automatically cleaned up container, please try again.\")\n",
    "    except:\n",
    "        print(f\"Please stop and/or delete floto_container and try again\")\n",
    "else:\n",
    "    print(f\"Successfully created container: floto_container!\")"
   ]
  },
  {
   "cell_type": "markdown",
   "id": "3440cbe1-ef19-42a0-a291-d51126c292b1",
   "metadata": {},
   "source": [
    "# Interacting with the container\n",
    "\n",
    "Now, we can execute commands within the container, and view its logs. The demo container I mentioned earlier expects the `/share` directory to exist, since in FLOTO it'll be created automatically. We can create that manually in this test environment."
   ]
  },
  {
   "cell_type": "code",
   "execution_count": null,
   "id": "f343064b-390c-475f-80b0-d4f4783097bf",
   "metadata": {},
   "outputs": [],
   "source": [
    "from chi.container import execute\n",
    "\n",
    "print(execute(floto_container.uuid, \"mkdir -p /share && touch /share/log.txt\")[\"output\"])"
   ]
  },
  {
   "cell_type": "markdown",
   "id": "b5c9c588-3ac7-46e5-a7f1-15f2bc70290c",
   "metadata": {},
   "source": [
    "You can view your container's metadata on the CHI@Edge dashboard: https://chi.edge.chameleoncloud.org/project/container/containers\n",
    "\n",
    "If you select the container, you can also access the \"logs\" tab, which will show the logs from the container, or the \"console\" tab which will give you an interactive console into the container, allowing you to execute commands inside a shell.\n",
    "\n",
    "You can also get the logs in this python environment. Here, we get the last 10 lines."
   ]
  },
  {
   "cell_type": "code",
   "execution_count": null,
   "id": "cd5a0af0-0328-4d42-b3d4-764a42f2aac4",
   "metadata": {},
   "outputs": [],
   "source": [
    "from chi.container import get_logs\n",
    "\n",
    "print(\"\\n\".join(x for x in get_logs(floto_container.uuid).splitlines()[-10:]))"
   ]
  }
 ],
 "metadata": {
  "kernelspec": {
   "display_name": "Python 3 (ipykernel)",
   "language": "python",
   "name": "python3"
  },
  "language_info": {
   "codemirror_mode": {
    "name": "ipython",
    "version": 3
   },
   "file_extension": ".py",
   "mimetype": "text/x-python",
   "name": "python",
   "nbconvert_exporter": "python",
   "pygments_lexer": "ipython3",
   "version": "3.10.9"
  }
 },
 "nbformat": 4,
 "nbformat_minor": 5
}
